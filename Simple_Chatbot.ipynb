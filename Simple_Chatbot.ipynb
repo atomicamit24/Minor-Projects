{
  "cells": [
    {
      "cell_type": "markdown",
      "metadata": {
        "id": "view-in-github",
        "colab_type": "text"
      },
      "source": [
        "<a href=\"https://colab.research.google.com/github/atomicamit24/Minor-Projects/blob/main/Simple_Chatbot.ipynb\" target=\"_parent\"><img src=\"https://colab.research.google.com/assets/colab-badge.svg\" alt=\"Open In Colab\"/></a>"
      ]
    },
    {
      "cell_type": "code",
      "execution_count": null,
      "metadata": {
        "id": "QhRhSKT68Rut"
      },
      "outputs": [],
      "source": []
    },
    {
      "cell_type": "markdown",
      "metadata": {
        "id": "d8be0104"
      },
      "source": [
        "# Task\n",
        "Fix the provided Python code for a chatbot, integrate the WeatherAPI using the provided API key \"428db8443c15458cb9955436252507\" and API URL \"https://www.weatherapi.com/my/\", and add the following features: remember user names, integrate advanced NLP, develop contextual understanding, add new API integrations (dictionary and translation), enhance sentiment analysis, explore basic learning mechanisms, introduce different response styles, implement user profiles, improve error handling and fallbacks, and add persistent storage."
      ]
    },
    {
      "cell_type": "markdown",
      "metadata": {
        "id": "2ea1729b"
      },
      "source": [
        "## Refactor and modularize\n",
        "\n",
        "### Subtask:\n",
        "Restructure the existing code to make it more modular and easier to add new features. This might involve creating separate functions or classes for different functionalities like NLP, API calls, and response generation.\n"
      ]
    },
    {
      "cell_type": "markdown",
      "metadata": {
        "id": "c96d0e29"
      },
      "source": [
        "**Reasoning**:\n",
        "Restructure the existing code into a `Chatbot` class with methods for different functionalities, including initializing parameters, preprocessing input, extracting city information, getting weather data, and generating responses. This addresses steps 1, 2, 3, 4, and 5 of the instructions.\n",
        "\n"
      ]
    },
    {
      "cell_type": "code",
      "execution_count": null,
      "metadata": {
        "colab": {
          "base_uri": "https://localhost:8080/"
        },
        "id": "fe4a072c",
        "outputId": "9ad30ffd-3bbb-4378-ad8c-59cb5d03ced0"
      },
      "outputs": [
        {
          "output_type": "stream",
          "name": "stdout",
          "text": [
            "Chatbot: Hi! I'm an enhanced chatbot. I can greet, answer basic questions, and give weather updates.\n",
            "Chatbot: Try asking about 'time', 'your name', or 'weather in London'.\n",
            "Chatbot: Type 'bye' to exit.\n",
            "You: weather in asansol\n",
            "Chatbot: The weather in Asansol, India is currently Partly Cloudy. The temperature is 26.4°C, but it feels like 29.9°C. Humidity is 86%.\n",
            "You: hi my name is amit\n",
            "Chatbot: Hello there! How can I assist you?\n",
            "You: what you can do\n",
            "Chatbot: I'm sorry, I don't understand that. Can you please rephrase or ask about weather for a city?\n",
            "You: help me\n",
            "Chatbot: I can answer basic questions about myself, greetings, and provide weather for a city.\n",
            "You: greetings\n",
            "Chatbot: I'm sorry, I don't understand that. Can you please rephrase or ask about weather for a city?\n",
            "You: ok\n",
            "Chatbot: I'm sorry, I don't understand that. Can you please rephrase or ask about weather for a city?\n",
            "You: bye\n",
            "Chatbot: Goodbye! Have a great day!\n"
          ]
        }
      ],
      "source": [
        "import re\n",
        "import requests\n",
        "import datetime\n",
        "\n",
        "# Define the Chatbot class to encapsulate all chatbot functionalities\n",
        "class Chatbot:\n",
        "    def __init__(self, api_key):\n",
        "        # Initialize the chatbot with the provided API key for external services\n",
        "        self.api_key = api_key\n",
        "        # Set the base URL for the WeatherAPI\n",
        "        self.weather_api_url = \"http://api.weatherapi.com/v1/current.json\"\n",
        "        # Define a dictionary of standard responses\n",
        "        self.responses = {\n",
        "            \"hello\": \"Hi there! How can I help you today?\",\n",
        "            \"hi\": \"Hello! What can I do for you?\",\n",
        "            \"hey\": \"Hey! How's it going?\",\n",
        "            \"how are you\": \"I'm just a program, but I'm doing great! Thanks for asking.\",\n",
        "            \"what is your name\": \"I am a simple chatbot, designed to assist you.\",\n",
        "            \"bye\": \"Goodbye! Have a great day!\",\n",
        "            \"thanks\": \"You're welcome!\",\n",
        "            \"thank you\": \"You're very welcome!\",\n",
        "            \"help\": \"I can answer basic questions about myself, greetings, and provide weather for a city.\",\n",
        "            \"who created you\": \"I was created by a developer for demonstration purposes.\",\n",
        "            # Use lambda for dynamic responses like time and date\n",
        "            \"time\": lambda: f\"The current time is {datetime.datetime.now().strftime('%I:%M %p')}.\",\n",
        "            \"date\": lambda: f\"Today's date is {datetime.datetime.now().strftime('%Y-%m-%d')}.\",\n",
        "            \"how old are you\": \"I don't have an age, as I'm just a computer program.\",\n",
        "            \"what do you do\": \"I can answer simple questions, provide greetings, and give weather updates for a specified city.\",\n",
        "            \"what is your purpose\": \"My purpose is to demonstrate basic chatbot functionalities, including NLP and API integration.\"\n",
        "        }\n",
        "        # Define patterns for basic intent recognition\n",
        "        self.patterns = {\n",
        "            \"hi\": \"greeting\",\n",
        "            \"hello\": \"greeting\",\n",
        "            \"hey\": \"greeting\",\n",
        "            \"how are you\": \"greeting_how_are_you\",\n",
        "            \"your name\": \"basic_info_name\",\n",
        "            \"who created you\": \"basic_info_creator\",\n",
        "            \"time\": \"basic_info_time\",\n",
        "            \"date\": \"basic_info_date\",\n",
        "            \"old are you\": \"basic_info_age\",\n",
        "            \"do you do\": \"basic_info_purpose\",\n",
        "            \"your purpose\": \"basic_info_purpose\",\n",
        "            \"help\": \"basic_info_help\",\n",
        "            \"what can you do\": \"basic_info_help\",\n",
        "            \"weather\": \"weather_query\",\n",
        "            \"temperature\": \"weather_query\",\n",
        "            \"forecast\": \"weather_query\",\n",
        "            \"climate\": \"weather_query\",\n",
        "            \"how hot\": \"weather_query\",\n",
        "            \"how cold\": \"weather_query\",\n",
        "            \"happy\": \"sentiment_positive\",\n",
        "            \"good\": \"sentiment_positive\",\n",
        "            \"great\": \"sentiment_positive\",\n",
        "            \"sad\": \"sentiment_negative\",\n",
        "            \"bad\": \"sentiment_negative\",\n",
        "            \"unhappy\": \"sentiment_negative\",\n",
        "            \"bye\": \"farewell\",\n",
        "            \"goodbye\": \"farewell\",\n",
        "            \"see you\": \"farewell\",\n",
        "            \"thank\": \"acknowledgement\"\n",
        "        }\n",
        "        # A list of common cities to help with city extraction\n",
        "        self.common_cities = [\"london\", \"paris\", \"new york\", \"tokyo\", \"delhi\", \"mumbai\", \"kolkata\", \"chennai\", \"bengaluru\", \"pune\", \"hyderabad\", \"chicago\", \"sydney\", \"berlin\", \"moscow\", \"rome\", \"dubai\", \"singapore\", \"hong kong\", \"san francisco\", \"los angeles\"]\n",
        "\n",
        "    # Method to preprocess user input: lowercasing, removing punctuation, and tokenization\n",
        "    def preprocess_input(self, user_input):\n",
        "        user_input = user_input.lower()\n",
        "        user_input = re.sub(r'[^\\w\\s]', '', user_input)\n",
        "        user_input = re.sub(r'\\s+', ' ', user_input).strip()\n",
        "        tokens = user_input.split()\n",
        "        return tokens\n",
        "\n",
        "    # Method to extract city names from the user input\n",
        "    def extract_city(self, user_input_tokens):\n",
        "        text_str = \" \".join(user_input_tokens)\n",
        "\n",
        "        # First, check for common cities\n",
        "        for city in self.common_cities:\n",
        "            if city in text_str:\n",
        "                return city.title()\n",
        "\n",
        "        # Then, use regex to find potential cities based on common patterns\n",
        "        # Pattern: \"in [city name]\"\n",
        "        match_in = re.search(r'in\\s+([a-zA-Z\\s]+?)(?:\\s+weather|\\s*[\\.\\?!,]|$)', text_str)\n",
        "        if match_in:\n",
        "            potential_city = match_in.group(1).strip()\n",
        "            # Basic validation for the extracted potential city\n",
        "            if potential_city and potential_city not in [\"the\", \"this\", \"that\", \"my\", \"your\"]:\n",
        "                if len(potential_city.split()) <= 3 and all(word.isalpha() for word in potential_city.split()):\n",
        "                    return potential_city.title()\n",
        "\n",
        "        # Pattern: \"[city name] weather\"\n",
        "        match_weather_before = re.search(r'([a-zA-Z\\s]+?)\\s+weather', text_str)\n",
        "        if match_weather_before:\n",
        "            potential_city = match_weather_before.group(1).strip()\n",
        "            # Basic validation for the extracted potential city\n",
        "            if potential_city and potential_city not in [\"what\", \"how\", \"is\", \"the\"]:\n",
        "                 if len(potential_city.split()) <= 3 and all(word.isalpha() for word in potential_city.split()):\n",
        "                    return potential_city.title()\n",
        "\n",
        "        # Fallback: If no specific pattern matches, consider the entire input (if not too short) as a potential city\n",
        "        if len(user_input_tokens) > 0:\n",
        "            potential_city = \" \".join(user_input_tokens)\n",
        "            if potential_city and re.search(r'[a-zA-Z]', potential_city):\n",
        "                 # Remove trailing punctuation\n",
        "                 potential_city = re.sub(r'[\\.\\?!,]\\s*$', '', potential_city).strip()\n",
        "                 # Avoid common non-city words\n",
        "                 if potential_city.lower() not in [\"the\", \"a\", \"is\", \"in\", \"of\", \"for\", \"what\", \"how\"]:\n",
        "                    return potential_city.title()\n",
        "\n",
        "        # Return None if no city is found\n",
        "        return None\n",
        "\n",
        "    # Method to fetch current weather data from the WeatherAPI\n",
        "    def get_current_weather(self, city_name):\n",
        "        # Check if API key is configured\n",
        "        if not self.api_key or self.api_key == 'YOUR_OPENWEATHERMAP_API_KEY':\n",
        "            return \"Weather service not configured. Please get a WeatherAPI.com API key and update the code.\"\n",
        "\n",
        "        # Prepare parameters for the API request\n",
        "        params = {\n",
        "            'q': city_name,\n",
        "            'key': self.api_key,\n",
        "        }\n",
        "        try:\n",
        "            # Make the API call\n",
        "            response = requests.get(self.weather_api_url, params=params)\n",
        "            # Raise an HTTPError for bad responses (4xx or 5xx)\n",
        "            response.raise_for_status()\n",
        "            # Parse the JSON response\n",
        "            data = response.json()\n",
        "\n",
        "            # Extract and format weather information\n",
        "            if 'current' in data and 'location' in data:\n",
        "                location = data['location']\n",
        "                current = data['current']\n",
        "                city = location['name']\n",
        "                country = location['country']\n",
        "                temp_c = current['temp_c']\n",
        "                feelslike_c = current['feelslike_c']\n",
        "                humidity = current['humidity']\n",
        "                condition = current['condition']['text']\n",
        "                return (f\"The weather in {city}, {country} is currently {condition}.\"\n",
        "                        f\" The temperature is {temp_c:.1f}°C, but it feels like {feelslike_c:.1f}°C.\"\n",
        "                        f\" Humidity is {humidity}%.\")\n",
        "            # Handle API-specific errors\n",
        "            elif 'error' in data:\n",
        "                 return f\"Sorry, I couldn't find weather information for {city_name}. Error: {data['error']['message']}\"\n",
        "            # Handle unexpected API responses\n",
        "            else:\n",
        "                 return f\"Received an unexpected response from the weather service for {city_name}.\"\n",
        "\n",
        "        # Implement comprehensive error handling for network and API issues\n",
        "        except requests.exceptions.HTTPError as e:\n",
        "            if e.response.status_code == 401:\n",
        "                return \"My weather service is currently unauthorized. Please check your WeatherAPI.com API key in the code.\"\n",
        "            else:\n",
        "                return f\"An HTTP error occurred while fetching weather data: {e}\"\n",
        "        except requests.exceptions.ConnectionError:\n",
        "            return \"I'm having trouble connecting to the weather service. Please check your internet connection.\"\n",
        "        except requests.exceptions.Timeout:\n",
        "            return \"The weather service took too long to respond. Please try again later.\"\n",
        "        except requests.exceptions.RequestException as e:\n",
        "            return f\"An error occurred with the weather request: {e}\"\n",
        "        except Exception as e:\n",
        "            return f\"An unexpected error occurred: {e}\"\n",
        "\n",
        "    # Method to generate a bot response based on user input\n",
        "    def get_bot_response(self, user_input):\n",
        "        # Preprocess the input\n",
        "        processed_tokens = self.preprocess_input(user_input)\n",
        "        processed_input_string = \" \".join(processed_tokens)\n",
        "\n",
        "        # Check for explicit 'bye' command\n",
        "        if processed_input_string == 'bye':\n",
        "            return \"farewell_signal\"\n",
        "\n",
        "        # Check for direct matches in the responses dictionary\n",
        "        if processed_input_string in self.responses:\n",
        "            response = self.responses[processed_input_string]\n",
        "            # Execute lambda functions if the response is callable\n",
        "            if callable(response):\n",
        "                return response()\n",
        "            return response\n",
        "\n",
        "        # Infer intent based on predefined patterns\n",
        "        inferred_intent = None\n",
        "        for pattern_key, intent_type in self.patterns.items():\n",
        "            if pattern_key in processed_input_string:\n",
        "                inferred_intent = intent_type\n",
        "                break\n",
        "\n",
        "        # Generate response based on the inferred intent\n",
        "        if inferred_intent == \"greeting\":\n",
        "            return \"Hello there! How can I assist you?\"\n",
        "        elif inferred_intent == \"greeting_how_are_you\":\n",
        "            return self.responses[\"how are you\"]\n",
        "        elif inferred_intent == \"basic_info_name\":\n",
        "            return self.responses[\"what is your name\"]\n",
        "        elif inferred_intent == \"basic_info_creator\":\n",
        "            return self.responses[\"who created you\"]\n",
        "        elif inferred_intent == \"basic_info_time\":\n",
        "            return self.responses[\"time\"]()\n",
        "        elif inferred_intent == \"basic_info_date\":\n",
        "            return self.responses[\"date\"]()\n",
        "        elif inferred_intent == \"basic_info_age\":\n",
        "            return self.responses[\"how old are you\"]\n",
        "        elif inferred_intent == \"basic_info_purpose\":\n",
        "            return self.responses[\"what do you do\"]\n",
        "        elif inferred_intent == \"basic_info_help\":\n",
        "            return self.responses[\"help\"]\n",
        "        elif inferred_intent == \"acknowledgement\":\n",
        "            return self.responses[\"thanks\"]\n",
        "        elif inferred_intent == \"farewell\":\n",
        "            return self.responses[\"bye\"]\n",
        "        elif inferred_intent == \"sentiment_positive\":\n",
        "            return \"That's wonderful to hear!\"\n",
        "        elif inferred_intent == \"sentiment_negative\":\n",
        "            return \"I'm sorry to hear that. I hope things get better for you.\"\n",
        "        elif inferred_intent == \"weather_query\":\n",
        "            # Extract city for weather queries and get weather data\n",
        "            city = self.extract_city(processed_tokens)\n",
        "            if city:\n",
        "                return self.get_current_weather(city)\n",
        "            else:\n",
        "                return \"Which city's weather would you like to know? Please specify, e.g., 'weather in London'.\"\n",
        "\n",
        "        # Default response for unrecognized input\n",
        "        return \"I'm sorry, I don't understand that. Can you please rephrase or ask about weather for a city?\"\n",
        "\n",
        "    # The main chat loop\n",
        "    def chat(self):\n",
        "        print(\"Chatbot: Hi! I'm an enhanced chatbot. I can greet, answer basic questions, and give weather updates.\")\n",
        "        print(\"Chatbot: Try asking about 'time', 'your name', or 'weather in London'.\")\n",
        "        print(\"Chatbot: Type 'bye' to exit.\")\n",
        "        while True:\n",
        "            try:\n",
        "                user_input = input(\"You: \")\n",
        "                # Exit condition for the chat loop\n",
        "                if user_input.lower() == 'bye':\n",
        "                    print(\"Chatbot: Goodbye! Have a great day!\")\n",
        "                    break\n",
        "\n",
        "                # Get the bot's response\n",
        "                response = self.get_bot_response(user_input)\n",
        "\n",
        "                # Handle farewell signal for exiting the loop\n",
        "                if response == \"farewell_signal\":\n",
        "                    print(\"Chatbot: Goodbye! Have a great day!\")\n",
        "                    break\n",
        "\n",
        "                # Print the bot's response\n",
        "                print(f\"Chatbot: {response}\")\n",
        "            # Handle KeyboardInterrupt (e.g., Ctrl+C)\n",
        "            except KeyboardInterrupt:\n",
        "                print(\"\\nChatbot: Chat interrupted by user. Goodbye!\")\n",
        "                break\n",
        "            # Catch any other unexpected errors during the chat\n",
        "            except Exception as e:\n",
        "                print(f\"Chatbot: An unexpected error occurred: {e}\")\n",
        "                print(\"Chatbot: Restarting chat loop.\")\n",
        "\n",
        "# --- Start the Chatbot ---\n",
        "# This block ensures the chat starts only when the script is executed directly\n",
        "if __name__ == \"__main__\":\n",
        "    # Create an instance of the Chatbot with the specified API key\n",
        "    chatbot_instance = Chatbot(api_key=\"428db8443c15458cb9955436252507\")\n",
        "    # Start the chat\n",
        "    chatbot_instance.chat()"
      ]
    },
    {
      "cell_type": "markdown",
      "metadata": {
        "id": "8c54e345"
      },
      "source": [
        "# Task\n",
        "Integrate advanced NLP techniques into the provided Python chatbot code to improve intent recognition and entity extraction, using the API key \"428db8443c15458cb9955436252507\" and the API URL \"https://www.weatherapi.com/my/\"."
      ]
    },
    {
      "cell_type": "markdown",
      "metadata": {
        "id": "5fa0be3c"
      },
      "source": [
        "## Choose and install nlp library\n",
        "\n",
        "### Subtask:\n",
        "Select an NLP library (e.g., spaCy or NLTK) and add the necessary code to install it in the notebook.\n"
      ]
    },
    {
      "cell_type": "markdown",
      "metadata": {
        "id": "9497faf7"
      },
      "source": [
        "**Reasoning**:\n",
        "Install the spaCy library using pip to prepare for integrating advanced NLP techniques.\n",
        "\n"
      ]
    },
    {
      "cell_type": "code",
      "execution_count": null,
      "metadata": {
        "id": "6c232dec",
        "colab": {
          "base_uri": "https://localhost:8080/"
        },
        "outputId": "a14c9af7-b3c4-41b5-a5e7-2508e65fb71c"
      },
      "outputs": [
        {
          "output_type": "stream",
          "name": "stdout",
          "text": [
            "Requirement already satisfied: spacy in /usr/local/lib/python3.11/dist-packages (3.8.7)\n",
            "Requirement already satisfied: spacy-legacy<3.1.0,>=3.0.11 in /usr/local/lib/python3.11/dist-packages (from spacy) (3.0.12)\n",
            "Requirement already satisfied: spacy-loggers<2.0.0,>=1.0.0 in /usr/local/lib/python3.11/dist-packages (from spacy) (1.0.5)\n",
            "Requirement already satisfied: murmurhash<1.1.0,>=0.28.0 in /usr/local/lib/python3.11/dist-packages (from spacy) (1.0.13)\n",
            "Requirement already satisfied: cymem<2.1.0,>=2.0.2 in /usr/local/lib/python3.11/dist-packages (from spacy) (2.0.11)\n",
            "Requirement already satisfied: preshed<3.1.0,>=3.0.2 in /usr/local/lib/python3.11/dist-packages (from spacy) (3.0.10)\n",
            "Requirement already satisfied: thinc<8.4.0,>=8.3.4 in /usr/local/lib/python3.11/dist-packages (from spacy) (8.3.6)\n",
            "Requirement already satisfied: wasabi<1.2.0,>=0.9.1 in /usr/local/lib/python3.11/dist-packages (from spacy) (1.1.3)\n",
            "Requirement already satisfied: srsly<3.0.0,>=2.4.3 in /usr/local/lib/python3.11/dist-packages (from spacy) (2.5.1)\n",
            "Requirement already satisfied: catalogue<2.1.0,>=2.0.6 in /usr/local/lib/python3.11/dist-packages (from spacy) (2.0.10)\n",
            "Requirement already satisfied: weasel<0.5.0,>=0.1.0 in /usr/local/lib/python3.11/dist-packages (from spacy) (0.4.1)\n",
            "Requirement already satisfied: typer<1.0.0,>=0.3.0 in /usr/local/lib/python3.11/dist-packages (from spacy) (0.16.0)\n",
            "Requirement already satisfied: tqdm<5.0.0,>=4.38.0 in /usr/local/lib/python3.11/dist-packages (from spacy) (4.67.1)\n",
            "Requirement already satisfied: numpy>=1.19.0 in /usr/local/lib/python3.11/dist-packages (from spacy) (2.0.2)\n",
            "Requirement already satisfied: requests<3.0.0,>=2.13.0 in /usr/local/lib/python3.11/dist-packages (from spacy) (2.32.3)\n",
            "Requirement already satisfied: pydantic!=1.8,!=1.8.1,<3.0.0,>=1.7.4 in /usr/local/lib/python3.11/dist-packages (from spacy) (2.11.7)\n",
            "Requirement already satisfied: jinja2 in /usr/local/lib/python3.11/dist-packages (from spacy) (3.1.6)\n",
            "Requirement already satisfied: setuptools in /usr/local/lib/python3.11/dist-packages (from spacy) (75.2.0)\n",
            "Requirement already satisfied: packaging>=20.0 in /usr/local/lib/python3.11/dist-packages (from spacy) (25.0)\n",
            "Requirement already satisfied: langcodes<4.0.0,>=3.2.0 in /usr/local/lib/python3.11/dist-packages (from spacy) (3.5.0)\n",
            "Requirement already satisfied: language-data>=1.2 in /usr/local/lib/python3.11/dist-packages (from langcodes<4.0.0,>=3.2.0->spacy) (1.3.0)\n",
            "Requirement already satisfied: annotated-types>=0.6.0 in /usr/local/lib/python3.11/dist-packages (from pydantic!=1.8,!=1.8.1,<3.0.0,>=1.7.4->spacy) (0.7.0)\n",
            "Requirement already satisfied: pydantic-core==2.33.2 in /usr/local/lib/python3.11/dist-packages (from pydantic!=1.8,!=1.8.1,<3.0.0,>=1.7.4->spacy) (2.33.2)\n",
            "Requirement already satisfied: typing-extensions>=4.12.2 in /usr/local/lib/python3.11/dist-packages (from pydantic!=1.8,!=1.8.1,<3.0.0,>=1.7.4->spacy) (4.14.1)\n",
            "Requirement already satisfied: typing-inspection>=0.4.0 in /usr/local/lib/python3.11/dist-packages (from pydantic!=1.8,!=1.8.1,<3.0.0,>=1.7.4->spacy) (0.4.1)\n",
            "Requirement already satisfied: charset-normalizer<4,>=2 in /usr/local/lib/python3.11/dist-packages (from requests<3.0.0,>=2.13.0->spacy) (3.4.2)\n",
            "Requirement already satisfied: idna<4,>=2.5 in /usr/local/lib/python3.11/dist-packages (from requests<3.0.0,>=2.13.0->spacy) (3.10)\n",
            "Requirement already satisfied: urllib3<3,>=1.21.1 in /usr/local/lib/python3.11/dist-packages (from requests<3.0.0,>=2.13.0->spacy) (2.5.0)\n",
            "Requirement already satisfied: certifi>=2017.4.17 in /usr/local/lib/python3.11/dist-packages (from requests<3.0.0,>=2.13.0->spacy) (2025.7.14)\n",
            "Requirement already satisfied: blis<1.4.0,>=1.3.0 in /usr/local/lib/python3.11/dist-packages (from thinc<8.4.0,>=8.3.4->spacy) (1.3.0)\n",
            "Requirement already satisfied: confection<1.0.0,>=0.0.1 in /usr/local/lib/python3.11/dist-packages (from thinc<8.4.0,>=8.3.4->spacy) (0.1.5)\n",
            "Requirement already satisfied: click>=8.0.0 in /usr/local/lib/python3.11/dist-packages (from typer<1.0.0,>=0.3.0->spacy) (8.2.1)\n",
            "Requirement already satisfied: shellingham>=1.3.0 in /usr/local/lib/python3.11/dist-packages (from typer<1.0.0,>=0.3.0->spacy) (1.5.4)\n",
            "Requirement already satisfied: rich>=10.11.0 in /usr/local/lib/python3.11/dist-packages (from typer<1.0.0,>=0.3.0->spacy) (13.9.4)\n",
            "Requirement already satisfied: cloudpathlib<1.0.0,>=0.7.0 in /usr/local/lib/python3.11/dist-packages (from weasel<0.5.0,>=0.1.0->spacy) (0.21.1)\n",
            "Requirement already satisfied: smart-open<8.0.0,>=5.2.1 in /usr/local/lib/python3.11/dist-packages (from weasel<0.5.0,>=0.1.0->spacy) (7.3.0.post1)\n",
            "Requirement already satisfied: MarkupSafe>=2.0 in /usr/local/lib/python3.11/dist-packages (from jinja2->spacy) (3.0.2)\n",
            "Requirement already satisfied: marisa-trie>=1.1.0 in /usr/local/lib/python3.11/dist-packages (from language-data>=1.2->langcodes<4.0.0,>=3.2.0->spacy) (1.2.1)\n",
            "Requirement already satisfied: markdown-it-py>=2.2.0 in /usr/local/lib/python3.11/dist-packages (from rich>=10.11.0->typer<1.0.0,>=0.3.0->spacy) (3.0.0)\n",
            "Requirement already satisfied: pygments<3.0.0,>=2.13.0 in /usr/local/lib/python3.11/dist-packages (from rich>=10.11.0->typer<1.0.0,>=0.3.0->spacy) (2.19.2)\n",
            "Requirement already satisfied: wrapt in /usr/local/lib/python3.11/dist-packages (from smart-open<8.0.0,>=5.2.1->weasel<0.5.0,>=0.1.0->spacy) (1.17.2)\n",
            "Requirement already satisfied: mdurl~=0.1 in /usr/local/lib/python3.11/dist-packages (from markdown-it-py>=2.2.0->rich>=10.11.0->typer<1.0.0,>=0.3.0->spacy) (0.1.2)\n"
          ]
        }
      ],
      "source": [
        "%pip install spacy"
      ]
    },
    {
      "cell_type": "markdown",
      "metadata": {
        "id": "f14b0f8b"
      },
      "source": [
        "## Integrate advanced NLP\n",
        "\n",
        "### Subtask: Choose and Install NLP Library\n",
        "\n",
        "Select an NLP library (e.g., spaCy or NLTK) and add the necessary code to install it in the notebook."
      ]
    },
    {
      "cell_type": "markdown",
      "metadata": {
        "id": "1330a7c1"
      },
      "source": [
        "**Reasoning**:\n",
        "Install the spaCy library using pip to prepare for integrating advanced NLP techniques."
      ]
    },
    {
      "cell_type": "code",
      "metadata": {
        "colab": {
          "base_uri": "https://localhost:8080/"
        },
        "id": "06df5b7c",
        "outputId": "6b1f3681-9d43-4a90-e1c5-c25b30ba0acd"
      },
      "source": [
        "%pip install spacy"
      ],
      "execution_count": null,
      "outputs": [
        {
          "output_type": "stream",
          "name": "stdout",
          "text": [
            "Requirement already satisfied: spacy in /usr/local/lib/python3.11/dist-packages (3.8.7)\n",
            "Requirement already satisfied: spacy-legacy<3.1.0,>=3.0.11 in /usr/local/lib/python3.11/dist-packages (from spacy) (3.0.12)\n",
            "Requirement already satisfied: spacy-loggers<2.0.0,>=1.0.0 in /usr/local/lib/python3.11/dist-packages (from spacy) (1.0.5)\n",
            "Requirement already satisfied: murmurhash<1.1.0,>=0.28.0 in /usr/local/lib/python3.11/dist-packages (from spacy) (1.0.13)\n",
            "Requirement already satisfied: cymem<2.1.0,>=2.0.2 in /usr/local/lib/python3.11/dist-packages (from spacy) (2.0.11)\n",
            "Requirement already satisfied: preshed<3.1.0,>=3.0.2 in /usr/local/lib/python3.11/dist-packages (from spacy) (3.0.10)\n",
            "Requirement already satisfied: thinc<8.4.0,>=8.3.4 in /usr/local/lib/python3.11/dist-packages (from spacy) (8.3.6)\n",
            "Requirement already satisfied: wasabi<1.2.0,>=0.9.1 in /usr/local/lib/python3.11/dist-packages (from spacy) (1.1.3)\n",
            "Requirement already satisfied: srsly<3.0.0,>=2.4.3 in /usr/local/lib/python3.11/dist-packages (from spacy) (2.5.1)\n",
            "Requirement already satisfied: catalogue<2.1.0,>=2.0.6 in /usr/local/lib/python3.11/dist-packages (from spacy) (2.0.10)\n",
            "Requirement already satisfied: weasel<0.5.0,>=0.1.0 in /usr/local/lib/python3.11/dist-packages (from spacy) (0.4.1)\n",
            "Requirement already satisfied: typer<1.0.0,>=0.3.0 in /usr/local/lib/python3.11/dist-packages (from spacy) (0.16.0)\n",
            "Requirement already satisfied: tqdm<5.0.0,>=4.38.0 in /usr/local/lib/python3.11/dist-packages (from spacy) (4.67.1)\n",
            "Requirement already satisfied: numpy>=1.19.0 in /usr/local/lib/python3.11/dist-packages (from spacy) (2.0.2)\n",
            "Requirement already satisfied: requests<3.0.0,>=2.13.0 in /usr/local/lib/python3.11/dist-packages (from spacy) (2.32.3)\n",
            "Requirement already satisfied: pydantic!=1.8,!=1.8.1,<3.0.0,>=1.7.4 in /usr/local/lib/python3.11/dist-packages (from spacy) (2.11.7)\n",
            "Requirement already satisfied: jinja2 in /usr/local/lib/python3.11/dist-packages (from spacy) (3.1.6)\n",
            "Requirement already satisfied: setuptools in /usr/local/lib/python3.11/dist-packages (from spacy) (75.2.0)\n",
            "Requirement already satisfied: packaging>=20.0 in /usr/local/lib/python3.11/dist-packages (from spacy) (25.0)\n",
            "Requirement already satisfied: langcodes<4.0.0,>=3.2.0 in /usr/local/lib/python3.11/dist-packages (from spacy) (3.5.0)\n",
            "Requirement already satisfied: language-data>=1.2 in /usr/local/lib/python3.11/dist-packages (from langcodes<4.0.0,>=3.2.0->spacy) (1.3.0)\n",
            "Requirement already satisfied: annotated-types>=0.6.0 in /usr/local/lib/python3.11/dist-packages (from pydantic!=1.8,!=1.8.1,<3.0.0,>=1.7.4->spacy) (0.7.0)\n",
            "Requirement already satisfied: pydantic-core==2.33.2 in /usr/local/lib/python3.11/dist-packages (from pydantic!=1.8,!=1.8.1,<3.0.0,>=1.7.4->spacy) (2.33.2)\n",
            "Requirement already satisfied: typing-extensions>=4.12.2 in /usr/local/lib/python3.11/dist-packages (from pydantic!=1.8,!=1.8.1,<3.0.0,>=1.7.4->spacy) (4.14.1)\n",
            "Requirement already satisfied: typing-inspection>=0.4.0 in /usr/local/lib/python3.11/dist-packages (from pydantic!=1.8,!=1.8.1,<3.0.0,>=1.7.4->spacy) (0.4.1)\n",
            "Requirement already satisfied: charset-normalizer<4,>=2 in /usr/local/lib/python3.11/dist-packages (from requests<3.0.0,>=2.13.0->spacy) (3.4.2)\n",
            "Requirement already satisfied: idna<4,>=2.5 in /usr/local/lib/python3.11/dist-packages (from requests<3.0.0,>=2.13.0->spacy) (3.10)\n",
            "Requirement already satisfied: urllib3<3,>=1.21.1 in /usr/local/lib/python3.11/dist-packages (from requests<3.0.0,>=2.13.0->spacy) (2.5.0)\n",
            "Requirement already satisfied: certifi>=2017.4.17 in /usr/local/lib/python3.11/dist-packages (from requests<3.0.0,>=2.13.0->spacy) (2025.7.14)\n",
            "Requirement already satisfied: blis<1.4.0,>=1.3.0 in /usr/local/lib/python3.11/dist-packages (from thinc<8.4.0,>=8.3.4->spacy) (1.3.0)\n",
            "Requirement already satisfied: confection<1.0.0,>=0.0.1 in /usr/local/lib/python3.11/dist-packages (from thinc<8.4.0,>=8.3.4->spacy) (0.1.5)\n",
            "Requirement already satisfied: click>=8.0.0 in /usr/local/lib/python3.11/dist-packages (from typer<1.0.0,>=0.3.0->spacy) (8.2.1)\n",
            "Requirement already satisfied: shellingham>=1.3.0 in /usr/local/lib/python3.11/dist-packages (from typer<1.0.0,>=0.3.0->spacy) (1.5.4)\n",
            "Requirement already satisfied: rich>=10.11.0 in /usr/local/lib/python3.11/dist-packages (from typer<1.0.0,>=0.3.0->spacy) (13.9.4)\n",
            "Requirement already satisfied: cloudpathlib<1.0.0,>=0.7.0 in /usr/local/lib/python3.11/dist-packages (from weasel<0.5.0,>=0.1.0->spacy) (0.21.1)\n",
            "Requirement already satisfied: smart-open<8.0.0,>=5.2.1 in /usr/local/lib/python3.11/dist-packages (from weasel<0.5.0,>=0.1.0->spacy) (7.3.0.post1)\n",
            "Requirement already satisfied: MarkupSafe>=2.0 in /usr/local/lib/python3.11/dist-packages (from jinja2->spacy) (3.0.2)\n",
            "Requirement already satisfied: marisa-trie>=1.1.0 in /usr/local/lib/python3.11/dist-packages (from language-data>=1.2->langcodes<4.0.0,>=3.2.0->spacy) (1.2.1)\n",
            "Requirement already satisfied: markdown-it-py>=2.2.0 in /usr/local/lib/python3.11/dist-packages (from rich>=10.11.0->typer<1.0.0,>=0.3.0->spacy) (3.0.0)\n",
            "Requirement already satisfied: pygments<3.0.0,>=2.13.0 in /usr/local/lib/python3.11/dist-packages (from rich>=10.11.0->typer<1.0.0,>=0.3.0->spacy) (2.19.2)\n",
            "Requirement already satisfied: wrapt in /usr/local/lib/python3.11/dist-packages (from smart-open<8.0.0,>=5.2.1->weasel<0.5.0,>=0.1.0->spacy) (1.17.2)\n",
            "Requirement already satisfied: mdurl~=0.1 in /usr/local/lib/python3.11/dist-packages (from markdown-it-py>=2.2.0->rich>=10.11.0->typer<1.0.0,>=0.3.0->spacy) (0.1.2)\n"
          ]
        }
      ]
    },
    {
      "cell_type": "markdown",
      "metadata": {
        "id": "3658d0dd"
      },
      "source": [
        "### Subtask: Load NLP Model\n",
        "\n",
        "Add code to load the required language model from the chosen library."
      ]
    },
    {
      "cell_type": "markdown",
      "metadata": {
        "id": "cb80ac9f"
      },
      "source": [
        "**Reasoning**:\n",
        "Load the 'en_core_web_sm' language model from spaCy to enable linguistic processing."
      ]
    },
    {
      "cell_type": "code",
      "metadata": {
        "colab": {
          "base_uri": "https://localhost:8080/"
        },
        "id": "989a6672",
        "outputId": "b9b0d73d-aeaf-425f-be7d-3769c2b5dfb2"
      },
      "source": [
        "import spacy\n",
        "\n",
        "# Download the smaller English language model\n",
        "!python -m spacy download en_core_web_sm\n",
        "\n",
        "# Load the model\n",
        "nlp = spacy.load(\"en_core_web_sm\")"
      ],
      "execution_count": null,
      "outputs": [
        {
          "output_type": "stream",
          "name": "stdout",
          "text": [
            "Collecting en-core-web-sm==3.8.0\n",
            "  Downloading https://github.com/explosion/spacy-models/releases/download/en_core_web_sm-3.8.0/en_core_web_sm-3.8.0-py3-none-any.whl (12.8 MB)\n",
            "\u001b[2K     \u001b[90m━━━━━━━━━━━━━━━━━━━━━━━━━━━━━━━━━━━━━━━\u001b[0m \u001b[32m12.8/12.8 MB\u001b[0m \u001b[31m105.8 MB/s\u001b[0m eta \u001b[36m0:00:00\u001b[0m\n",
            "\u001b[?25h\u001b[38;5;2m✔ Download and installation successful\u001b[0m\n",
            "You can now load the package via spacy.load('en_core_web_sm')\n",
            "\u001b[38;5;3m⚠ Restart to reload dependencies\u001b[0m\n",
            "If you are in a Jupyter or Colab notebook, you may need to restart Python in\n",
            "order to load all the package's dependencies. You can do this by selecting the\n",
            "'Restart kernel' or 'Restart runtime' option.\n"
          ]
        }
      ]
    }
  ],
  "metadata": {
    "colab": {
      "provenance": [],
      "gpuType": "T4",
      "authorship_tag": "ABX9TyPixO8tALjBBJJLBnNqRAl0",
      "include_colab_link": true
    },
    "kernelspec": {
      "display_name": "Python 3",
      "name": "python3"
    },
    "language_info": {
      "name": "python"
    },
    "accelerator": "GPU"
  },
  "nbformat": 4,
  "nbformat_minor": 0
}